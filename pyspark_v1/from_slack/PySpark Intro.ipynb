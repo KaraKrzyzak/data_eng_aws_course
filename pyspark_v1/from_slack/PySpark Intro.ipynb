{
 "cells": [
  {
   "cell_type": "code",
   "execution_count": 2,
   "id": "5795bb16",
   "metadata": {},
   "outputs": [],
   "source": [
    "from pyspark.sql import SparkSession"
   ]
  },
  {
   "cell_type": "code",
   "execution_count": 7,
   "id": "bc26d4f5",
   "metadata": {},
   "outputs": [
    {
     "name": "stdout",
     "output_type": "stream",
     "text": [
      "+----------+---------+---+\n",
      "|first_name|last_name|age|\n",
      "+----------+---------+---+\n",
      "|      Adam|    Nowak| 32|\n",
      "|       Jan| Kowalski| 28|\n",
      "|       Ewa|     Eden| 18|\n",
      "+----------+---------+---+\n",
      "\n",
      "root\n",
      " |-- first_name: string (nullable = true)\n",
      " |-- last_name: string (nullable = true)\n",
      " |-- age: long (nullable = true)\n",
      "\n"
     ]
    }
   ],
   "source": [
    "# Wersja \"klasyczna\"\n",
    "spark = SparkSession.builder.appName(\"hello-pyspark\").getOrCreate()\n",
    "\n",
    "data = [(\"Adam\", \"Nowak\", 32), (\"Jan\", \"Kowalski\", 28), (\"Ewa\", \"Eden\", 18)]\n",
    "columns = (\"first_name\", \"last_name\", \"age\")\n",
    "    \n",
    "df = spark.createDataFrame(data, columns)\n",
    "    \n",
    "# Wyświetlenie danych oraz schematu\n",
    "df.show()\n",
    "df.printSchema()\n",
    "\n",
    "spark.stop()"
   ]
  },
  {
   "cell_type": "code",
   "execution_count": 4,
   "id": "dd4c2ee8-e6ea-4f16-8aa8-272307c63caf",
   "metadata": {},
   "outputs": [
    {
     "name": "stdout",
     "output_type": "stream",
     "text": [
      "+----------+---------+---+\n",
      "|first_name|last_name|age|\n",
      "+----------+---------+---+\n",
      "|      Adam|    Nowak| 32|\n",
      "|       Jan| Kowalski| 28|\n",
      "|       Ewa|     Eden| 18|\n",
      "+----------+---------+---+\n",
      "\n",
      "root\n",
      " |-- first_name: string (nullable = true)\n",
      " |-- last_name: string (nullable = true)\n",
      " |-- age: long (nullable = true)\n",
      "\n"
     ]
    }
   ],
   "source": [
    "# Wersja with - dobre do zadań ad-hoc lub skromnego ilości kodu \n",
    "# (ewentualnie dla przywyczajenia do context manager)\n",
    "with SparkSession.builder.appName(\"hello-pyspark\").getOrCreate() as spark:\n",
    "    # Tworzenie DF\n",
    "    data = [\n",
    "        (\"Adam\", \"Nowak\", 32),\n",
    "        (\"Jan\", \"Kowalski\", 28),\n",
    "        (\"Ewa\", \"Eden\", 18)\n",
    "    ]\n",
    "    columns = (\"first_name\", \"last_name\", \"age\")\n",
    "    \n",
    "    df = spark.createDataFrame(data, columns)\n",
    "    \n",
    "    # Wyświetlenie danych oraz schematu\n",
    "    df.show()\n",
    "    df.printSchema()\n",
    "\n",
    "print(\"TUTAJ NIE MA SENSJI SPARKA\")"
   ]
  }
 ],
 "metadata": {
  "kernelspec": {
   "display_name": "Python 3 (ipykernel)",
   "language": "python",
   "name": "python3"
  },
  "language_info": {
   "codemirror_mode": {
    "name": "ipython",
    "version": 3
   },
   "file_extension": ".py",
   "mimetype": "text/x-python",
   "name": "python",
   "nbconvert_exporter": "python",
   "pygments_lexer": "ipython3",
   "version": "3.11.10"
  }
 },
 "nbformat": 4,
 "nbformat_minor": 5
}
