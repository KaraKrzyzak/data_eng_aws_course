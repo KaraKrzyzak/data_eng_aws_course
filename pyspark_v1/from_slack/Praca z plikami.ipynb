{
 "cells": [
  {
   "cell_type": "code",
   "execution_count": 1,
   "id": "5795bb16",
   "metadata": {},
   "outputs": [],
   "source": [
    "from pyspark.sql import SparkSession"
   ]
  },
  {
   "cell_type": "markdown",
   "id": "01ff626a",
   "metadata": {},
   "source": [
    "### Pliki CSV"
   ]
  },
  {
   "cell_type": "code",
   "execution_count": 7,
   "id": "dd4c2ee8-e6ea-4f16-8aa8-272307c63caf",
   "metadata": {},
   "outputs": [
    {
     "name": "stdout",
     "output_type": "stream",
     "text": [
      "+---+----------+--------+---+----------+--------+\n",
      "| id|      name|cost_net|vat|cost_gross|category|\n",
      "+---+----------+--------+---+----------+--------+\n",
      "|  1|Bindownica| 2003.46|  8|   2163.74|       B|\n",
      "|  2| Telewizor| 1144.24|  5|   1201.45|       H|\n",
      "|  3|     Torba|   75.66|  5|     79.44|       E|\n",
      "|  4| Podkładka| 2653.38|  8|   2865.65|       D|\n",
      "|  5|   Hub USB|  416.74| 23|    512.59|       G|\n",
      "+---+----------+--------+---+----------+--------+\n",
      "only showing top 5 rows\n",
      "\n",
      "root\n",
      " |-- id: string (nullable = true)\n",
      " |-- name: string (nullable = true)\n",
      " |-- cost_net: string (nullable = true)\n",
      " |-- vat: string (nullable = true)\n",
      " |-- cost_gross: string (nullable = true)\n",
      " |-- category: string (nullable = true)\n",
      "\n"
     ]
    }
   ],
   "source": [
    "\n",
    "# Opcja I: read.csv\n",
    "with SparkSession.builder.appName(\"pyspark-files\").getOrCreate() as spark:\n",
    "    df = spark.read.csv(\"./work/data/products.csv\", header=True, sep=\",\")\n",
    "    df.show(5)\n",
    "    df.printSchema()\n",
    "    "
   ]
  },
  {
   "cell_type": "code",
   "execution_count": 8,
   "id": "6967c807",
   "metadata": {},
   "outputs": [
    {
     "name": "stdout",
     "output_type": "stream",
     "text": [
      "+---+----------+--------+---+----------+--------+\n",
      "| id|      name|cost_net|vat|cost_gross|category|\n",
      "+---+----------+--------+---+----------+--------+\n",
      "|  1|Bindownica| 2003.46|  8|   2163.74|       B|\n",
      "|  2| Telewizor| 1144.24|  5|   1201.45|       H|\n",
      "|  3|     Torba|   75.66|  5|     79.44|       E|\n",
      "|  4| Podkładka| 2653.38|  8|   2865.65|       D|\n",
      "|  5|   Hub USB|  416.74| 23|    512.59|       G|\n",
      "+---+----------+--------+---+----------+--------+\n",
      "only showing top 5 rows\n",
      "\n",
      "root\n",
      " |-- id: string (nullable = true)\n",
      " |-- name: string (nullable = true)\n",
      " |-- cost_net: string (nullable = true)\n",
      " |-- vat: string (nullable = true)\n",
      " |-- cost_gross: string (nullable = true)\n",
      " |-- category: string (nullable = true)\n",
      "\n"
     ]
    }
   ],
   "source": [
    "# Opcja II: ogólny | Metoda format+load\n",
    "with SparkSession.builder.appName(\"pyspark-files\").getOrCreate() as spark:\n",
    "    # Alternatywa: option(\"header\", \"True\").option(\"delimeter\", \",\")\n",
    "    df = spark.read.format(\"csv\") \\\n",
    "        .options(header=True, delimeter=\",\") \\\n",
    "        .load(\"./work/data/products.csv\")\n",
    "        \n",
    "    df.show(5)\n",
    "    df.printSchema()"
   ]
  },
  {
   "cell_type": "markdown",
   "id": "21699c0f",
   "metadata": {},
   "source": [
    "### Plik JSON"
   ]
  },
  {
   "cell_type": "code",
   "execution_count": 10,
   "id": "511f5a9e",
   "metadata": {},
   "outputs": [
    {
     "name": "stdout",
     "output_type": "stream",
     "text": [
      "+------------+---------------------+----+--------+--------------------------------+\n",
      "|balans_konta|data_utworzenia_konta|imie|nazwisko|timestamp_ostatniej_aktualizacji|\n",
      "+------------+---------------------+----+--------+--------------------------------+\n",
      "|     1500.75|           2021-03-15| Jan|Kowalski|            2023-10-05T14:30:00Z|\n",
      "|      2300.5|           2020-07-22|Anna|   Nowak|            2023-09-28T09:45:00Z|\n",
      "+------------+---------------------+----+--------+--------------------------------+\n",
      "\n"
     ]
    }
   ],
   "source": [
    "with SparkSession.builder.appName(\"pyspark-files\").getOrCreate() as spark:\n",
    "    df = spark.read.json(\"./work/data/users.json\", multiLine=True)\n",
    "    df.show()"
   ]
  },
  {
   "cell_type": "code",
   "execution_count": 12,
   "id": "85a2c71b",
   "metadata": {},
   "outputs": [
    {
     "name": "stdout",
     "output_type": "stream",
     "text": [
      "+------------+---------------------+----+--------+--------------------------------+---------+------+\n",
      "|balans_konta|data_utworzenia_konta|imie|nazwisko|timestamp_ostatniej_aktualizacji|typ_konta|waluta|\n",
      "+------------+---------------------+----+--------+--------------------------------+---------+------+\n",
      "|     1500.75|           2021-03-15| Jan|Kowalski|            2023-10-05T14:30:00Z|      VIP|  NULL|\n",
      "|      2300.5|           2020-07-22|Anna|   Nowak|            2023-09-28T09:45:00Z|     NULL|   PLN|\n",
      "+------------+---------------------+----+--------+--------------------------------+---------+------+\n",
      "\n"
     ]
    }
   ],
   "source": [
    "with SparkSession.builder.appName(\"pyspark-files\").getOrCreate() as spark:\n",
    "    df = spark.read.format(\"json\").options(multiLine=True).load(\"./work/data/users.json\")\n",
    "    df.show()"
   ]
  }
 ],
 "metadata": {
  "kernelspec": {
   "display_name": "Python 3 (ipykernel)",
   "language": "python",
   "name": "python3"
  },
  "language_info": {
   "codemirror_mode": {
    "name": "ipython",
    "version": 3
   },
   "file_extension": ".py",
   "mimetype": "text/x-python",
   "name": "python",
   "nbconvert_exporter": "python",
   "pygments_lexer": "ipython3",
   "version": "3.11.10"
  }
 },
 "nbformat": 4,
 "nbformat_minor": 5
}
