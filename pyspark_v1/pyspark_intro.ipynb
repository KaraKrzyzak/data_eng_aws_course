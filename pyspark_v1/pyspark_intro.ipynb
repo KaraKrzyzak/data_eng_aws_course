{
 "cells": [
  {
   "cell_type": "code",
   "execution_count": 1,
   "metadata": {},
   "outputs": [],
   "source": [
    "import pyspark\n",
    "from pyspark.sql import SparkSession\n",
    "\n",
    "import pyspark.sql.functions as f\n",
    "\n",
    "from pyspark.sql.types import (\n",
    "    StructType, StructField,\n",
    "    IntegerType, LongType, FloatType, DoubleType,\n",
    "    StringType, DateType, TimestampType, BooleanType,\n",
    "    MapType, ArrayType\n",
    ")"
   ]
  },
  {
   "cell_type": "code",
   "execution_count": 2,
   "metadata": {},
   "outputs": [],
   "source": [
    "spark = SparkSession.builder.appName(\"pyspark-processing\").getOrCreate()"
   ]
  },
  {
   "cell_type": "code",
   "execution_count": 12,
   "metadata": {},
   "outputs": [
    {
     "name": "stdout",
     "output_type": "stream",
     "text": [
      "+---+----------+--------+---+----------+--------+\n",
      "| id|      name|cost_net|vat|cost_gross|category|\n",
      "+---+----------+--------+---+----------+--------+\n",
      "|  1|Bindownica| 2003.46|  8|   2163.74|       B|\n",
      "|  2| Telewizor| 1144.24|  5|   1201.45|       H|\n",
      "|  3|     Torba|   75.66|  5|     79.44|       E|\n",
      "|  4| Podkładka| 2653.38|  8|   2865.65|       D|\n",
      "|  5|   Hub USB|  416.74| 23|    512.59|       G|\n",
      "+---+----------+--------+---+----------+--------+\n",
      "only showing top 5 rows\n",
      "\n"
     ]
    }
   ],
   "source": [
    "df = spark.read.format(\"csv\").options(header=True, delimeter=\",\").load(\"./work/pyspark_v1/from_slack/products.csv\")\n",
    "df.createOrReplaceTempView(\"products\")\n",
    "df.show(5)"
   ]
  },
  {
   "cell_type": "code",
   "execution_count": 16,
   "metadata": {},
   "outputs": [
    {
     "name": "stdout",
     "output_type": "stream",
     "text": [
      "+---+----------+--------+---+\n",
      "| ID|      Name|Net Cost|Cat|\n",
      "+---+----------+--------+---+\n",
      "|  1|Bindownica| 2003.46|  B|\n",
      "|  2| Telewizor| 1144.24|  H|\n",
      "|  3|     Torba|   75.66|  E|\n",
      "|  4| Podkładka| 2653.38|  D|\n",
      "|  5|   Hub USB|  416.74|  G|\n",
      "+---+----------+--------+---+\n",
      "only showing top 5 rows\n",
      "\n"
     ]
    }
   ],
   "source": [
    "df.select(\n",
    "    f.col(\"id\").alias(\"ID\"),\n",
    "    f.col(\"name\").alias(\"Name\"),\n",
    "    f.col(\"cost_net\").alias(\"Net Cost\"),\n",
    "    f.col(\"category\").alias(\"Cat\")\n",
    ").show(5)"
   ]
  },
  {
   "cell_type": "code",
   "execution_count": 17,
   "metadata": {},
   "outputs": [
    {
     "name": "stdout",
     "output_type": "stream",
     "text": [
      "+---+----------+--------+---+\n",
      "| ID|      Name|Net Cost|Cat|\n",
      "+---+----------+--------+---+\n",
      "|  5|   Hub USB|  416.74|  G|\n",
      "| 27| Słuchawki| 4954.44|  G|\n",
      "| 32| Konwerter|  116.13|  G|\n",
      "| 35|    Laptop| 4285.69|  G|\n",
      "| 36|Smartwatch| 4937.37|  G|\n",
      "+---+----------+--------+---+\n",
      "only showing top 5 rows\n",
      "\n"
     ]
    }
   ],
   "source": [
    "df.select(\n",
    "    f.col(\"id\").alias(\"ID\"),\n",
    "    f.col(\"name\").alias(\"Name\"),\n",
    "    f.col(\"cost_net\").alias(\"Net Cost\"),\n",
    "    f.col(\"category\").alias(\"Cat\")\n",
    ").filter((f.col(\"Cat\") == \"G\")).show(5)"
   ]
  },
  {
   "cell_type": "code",
   "execution_count": 18,
   "metadata": {},
   "outputs": [
    {
     "name": "stdout",
     "output_type": "stream",
     "text": [
      "+---+---------+--------+---+\n",
      "| ID|     Name|Net Cost|Cat|\n",
      "+---+---------+--------+---+\n",
      "|  3|    Torba|   75.66|  E|\n",
      "|  5|  Hub USB|  416.74|  G|\n",
      "|  6|   Pralka| 4507.47|  E|\n",
      "| 21|    Kabel| 1703.73|  E|\n",
      "| 22|Ładowarka| 2114.18|  E|\n",
      "+---+---------+--------+---+\n",
      "only showing top 5 rows\n",
      "\n"
     ]
    }
   ],
   "source": [
    "df.select(\n",
    "    f.col(\"id\").alias(\"ID\"),\n",
    "    f.col(\"name\").alias(\"Name\"),\n",
    "    f.col(\"cost_net\").alias(\"Net Cost\"),\n",
    "    f.col(\"category\").alias(\"Cat\")\n",
    ").filter((f.col(\"Cat\").isin([\"E\", \"G\"]))).show(5)"
   ]
  },
  {
   "cell_type": "code",
   "execution_count": 21,
   "metadata": {},
   "outputs": [
    {
     "name": "stdout",
     "output_type": "stream",
     "text": [
      "+---+----+--------+---+\n",
      "| ID|Name|Net Cost|Cat|\n",
      "+---+----+--------+---+\n",
      "+---+----+--------+---+\n",
      "\n"
     ]
    }
   ],
   "source": [
    "df.select(\n",
    "    f.col(\"id\").alias(\"ID\"),\n",
    "    f.col(\"name\").alias(\"Name\"),\n",
    "    f.col(\"cost_net\").alias(\"Net Cost\"),\n",
    "    f.col(\"category\").alias(\"Cat\")\n",
    ").filter((f.col(\"cost_net\").isNull())).show(5)"
   ]
  },
  {
   "cell_type": "code",
   "execution_count": 22,
   "metadata": {},
   "outputs": [],
   "source": [
    "spark2 = SparkSession.builder.appName(\"pyspark-cust\").getOrCreate()"
   ]
  },
  {
   "cell_type": "code",
   "execution_count": 23,
   "metadata": {},
   "outputs": [
    {
     "name": "stdout",
     "output_type": "stream",
     "text": [
      "+---+----------+-----------+---------+--------------------+------------+------+\n",
      "| id|first_name|  last_name|    phone|               email|    acc_type|points|\n",
      "+---+----------+-----------+---------+--------------------+------------+------+\n",
      "|  1|    Julian|     Siatka|828223683|juliansiatka@onet.pl|    Ultimate|233101|\n",
      "|  2|     Tymon|Buszkiewicz|069601377|tymonbuszkiewicz@...|    Ultimate| 61371|\n",
      "|  3|    Karina|        Roś|160231488| karinaroś@yahoo.com|Professional|215880|\n",
      "|  4|     Karol|     Marcol|469824688|karolmarcol@inter...|Professional|495433|\n",
      "|  5| Marcelina|     Gamrat|899504259|marcelinagamrat@o...|Professional|264302|\n",
      "+---+----------+-----------+---------+--------------------+------------+------+\n",
      "only showing top 5 rows\n",
      "\n"
     ]
    }
   ],
   "source": [
    "df2 = spark2.read.format(\"csv\").options(header=True, delimeter=\",\").load(\"./work/pyspark_v1/from_slack/customers.csv\")\n",
    "df2.createOrReplaceTempView(\"cust\")\n",
    "df2.show(5)"
   ]
  },
  {
   "cell_type": "code",
   "execution_count": 24,
   "metadata": {},
   "outputs": [
    {
     "name": "stdout",
     "output_type": "stream",
     "text": [
      "+---------+-----------+---------+--------------------+\n",
      "|     Imie|   Nazwisko|  Telefon|               Email|\n",
      "+---------+-----------+---------+--------------------+\n",
      "|   Julian|     Siatka|828223683|juliansiatka@onet.pl|\n",
      "|    Tymon|Buszkiewicz|069601377|tymonbuszkiewicz@...|\n",
      "|   Karina|        Roś|160231488| karinaroś@yahoo.com|\n",
      "|    Karol|     Marcol|469824688|karolmarcol@inter...|\n",
      "|Marcelina|     Gamrat|899504259|marcelinagamrat@o...|\n",
      "+---------+-----------+---------+--------------------+\n",
      "only showing top 5 rows\n",
      "\n"
     ]
    }
   ],
   "source": [
    "df2.select(\n",
    "    f.col(\"first_name\").alias(\"Imie\"),\n",
    "    f.col(\"last_name\").alias(\"Nazwisko\"),\n",
    "    f.col(\"phone\").alias(\"Telefon\"),\n",
    "    f.col(\"email\").alias(\"Email\")\n",
    ").show(5)"
   ]
  },
  {
   "cell_type": "code",
   "execution_count": 26,
   "metadata": {},
   "outputs": [
    {
     "name": "stdout",
     "output_type": "stream",
     "text": [
      "+---------+-----------+---------+--------------------+\n",
      "|     Imie|   Nazwisko|  Telefon|               Email|\n",
      "+---------+-----------+---------+--------------------+\n",
      "|   Julian|     Siatka|828223683|juliansiatka@onet.pl|\n",
      "|    Tymon|Buszkiewicz|069601377|tymonbuszkiewicz@...|\n",
      "|   Karina|        Roś|160231488| karinaroś@yahoo.com|\n",
      "|    Karol|     Marcol|469824688|karolmarcol@inter...|\n",
      "|Marcelina|     Gamrat|899504259|marcelinagamrat@o...|\n",
      "+---------+-----------+---------+--------------------+\n",
      "only showing top 5 rows\n",
      "\n"
     ]
    }
   ],
   "source": [
    "df2.select(\n",
    "    f.col(\"first_name\").alias(\"Imie\").cast(StringType()),\n",
    "    f.col(\"last_name\").alias(\"Nazwisko\").cast(StringType()),\n",
    "    f.col(\"phone\").alias(\"Telefon\").cast(StringType()),\n",
    "    f.col(\"email\").alias(\"Email\").cast(StringType())\n",
    ").show(5)"
   ]
  },
  {
   "cell_type": "code",
   "execution_count": 29,
   "metadata": {},
   "outputs": [
    {
     "name": "stdout",
     "output_type": "stream",
     "text": [
      "+-------+--------+---------+--------------------+------+------------+\n",
      "|   Imie|Nazwisko|  Telefon|               Email|Punkty|         Typ|\n",
      "+-------+--------+---------+--------------------+------+------------+\n",
      "|Cyprian|     Gaś|992307787|    cypriangaś@o2.pl|  1716|       Basic|\n",
      "|  Filip|  Lesner|675828213|filiplesner@inter...|  1318|    Complete|\n",
      "|   Emil| Andziak|424375441|emilandziak@hotma...|  1157|    Ultimate|\n",
      "| Hubert|   Raźny|056316091|hubertraźny@inter...|  1848|       Basic|\n",
      "|Kajetan|    Sapa|799263020| kajetansapa@onet.pl|  1878|Professional|\n",
      "+-------+--------+---------+--------------------+------+------------+\n",
      "only showing top 5 rows\n",
      "\n"
     ]
    }
   ],
   "source": [
    "df2.select(\n",
    "    f.col(\"first_name\").alias(\"Imie\").cast(StringType()),\n",
    "    f.col(\"last_name\").alias(\"Nazwisko\").cast(StringType()),\n",
    "    f.col(\"phone\").alias(\"Telefon\").cast(StringType()),\n",
    "    f.col(\"email\").alias(\"Email\").cast(StringType()),\n",
    "    f.col(\"points\").alias(\"Punkty\").cast(IntegerType()),\n",
    "    f.col(\"acc_type\").alias(\"Typ\").cast(StringType())\n",
    ").filter(\n",
    "    f.col(\"points\").between(1000,2000)\n",
    "    ).show(5)"
   ]
  },
  {
   "cell_type": "code",
   "execution_count": 31,
   "metadata": {},
   "outputs": [
    {
     "name": "stdout",
     "output_type": "stream",
     "text": [
      "+---------+--------+---------+--------------------+------+-----+\n",
      "|     Imie|Nazwisko|  Telefon|               Email|Punkty|  Typ|\n",
      "+---------+--------+---------+--------------------+------+-----+\n",
      "|   Wiktor|   Kinal|226926214|wiktorkinal@gmail...|496938|Basic|\n",
      "|     Alex|Kastelik|853740246|alexkastelik@gmai...|177683|Basic|\n",
      "|Krzysztof| Noculak|031145569|krzysztofnoculak@...|469200|Basic|\n",
      "|Agnieszka|   Sojda|620859467|agnieszkasojda@in...|358865|Basic|\n",
      "|Tymoteusz|   Drewa|438936771|tymoteuszdrewa@ho...|112632|Basic|\n",
      "+---------+--------+---------+--------------------+------+-----+\n",
      "only showing top 5 rows\n",
      "\n"
     ]
    }
   ],
   "source": [
    "df2.select(\n",
    "    f.col(\"first_name\").alias(\"Imie\").cast(StringType()),\n",
    "    f.col(\"last_name\").alias(\"Nazwisko\").cast(StringType()),\n",
    "    f.col(\"phone\").alias(\"Telefon\").cast(StringType()),\n",
    "    f.col(\"email\").alias(\"Email\").cast(StringType()),\n",
    "    f.col(\"points\").alias(\"Punkty\").cast(IntegerType()),\n",
    "    f.col(\"acc_type\").alias(\"Typ\").cast(StringType())\n",
    ").where(\n",
    "    f.col(\"acc_type\").isin([\"Basic\"])\n",
    "    ).show(5)"
   ]
  },
  {
   "cell_type": "code",
   "execution_count": 32,
   "metadata": {},
   "outputs": [
    {
     "name": "stdout",
     "output_type": "stream",
     "text": [
      "+------------+\n",
      "|         Typ|\n",
      "+------------+\n",
      "|    Ultimate|\n",
      "|    Complete|\n",
      "|Professional|\n",
      "|       Basic|\n",
      "+------------+\n",
      "\n"
     ]
    }
   ],
   "source": [
    "df2.select(\n",
    "    #f.col(\"first_name\").alias(\"Imie\").cast(StringType()),\n",
    "    #f.col(\"last_name\").alias(\"Nazwisko\").cast(StringType()),\n",
    "    #f.col(\"phone\").alias(\"Telefon\").cast(StringType()),\n",
    "    #f.col(\"email\").alias(\"Email\").cast(StringType()),\n",
    "    #f.col(\"points\").alias(\"Punkty\").cast(IntegerType()),\n",
    "    f.col(\"acc_type\").alias(\"Typ\").cast(StringType())\n",
    ").distinct().show()"
   ]
  },
  {
   "cell_type": "code",
   "execution_count": 35,
   "metadata": {},
   "outputs": [
    {
     "name": "stdout",
     "output_type": "stream",
     "text": [
      "+-------+------+---------+--------------------+--------------------+------------------+--------+\n",
      "|summary|  Imie| Nazwisko|             Telefon|               Email|            Punkty|     Typ|\n",
      "+-------+------+---------+--------------------+--------------------+------------------+--------+\n",
      "|  count| 50000|    50000|               50000|               50000|             50000|   50000|\n",
      "|   mean|  NULL|     NULL|   5.0021823133304E8|                NULL|      250557.01444|    NULL|\n",
      "| stddev|  NULL|     NULL|2.8812862863572043E8|                NULL|143853.34462022746|    NULL|\n",
      "|    min|   Ada|Abramczuk|           000001719|adaadamaszek@inte...|               126|   Basic|\n",
      "|    max|Łukasz|   Żółtek|           999994166|łukaszżurawik@gma...|            499985|Ultimate|\n",
      "+-------+------+---------+--------------------+--------------------+------------------+--------+\n",
      "\n"
     ]
    }
   ],
   "source": [
    "df2.select(\n",
    "    f.col(\"first_name\").alias(\"Imie\").cast(StringType()),\n",
    "    f.col(\"last_name\").alias(\"Nazwisko\").cast(StringType()),\n",
    "    f.col(\"phone\").alias(\"Telefon\").cast(StringType()),\n",
    "    f.col(\"email\").alias(\"Email\").cast(StringType()),\n",
    "    f.col(\"points\").alias(\"Punkty\").cast(IntegerType()),\n",
    "    f.col(\"acc_type\").alias(\"Typ\").cast(StringType())\n",
    ").describe().show()"
   ]
  },
  {
   "cell_type": "code",
   "execution_count": 36,
   "metadata": {},
   "outputs": [
    {
     "name": "stdout",
     "output_type": "stream",
     "text": [
      "+-------------------+------------+-------------+--------------------------------+--------------------+\n",
      "|              autor|data_wydania|srednia_ocena|timestamp_ostatniej_aktualizacji|       tytul_ksiazki|\n",
      "+-------------------+------------+-------------+--------------------------------+--------------------+\n",
      "|      George Orwell|  1949-06-08|          4.7|            2023-10-01T12:00:00Z|                1984|\n",
      "|       J.K. Rowling|  1997-06-26|          4.8|            2023-09-25T15:45:00Z|Harry Potter and ...|\n",
      "|F. Scott Fitzgerald|  1925-04-10|          4.5|            2023-10-03T10:30:00Z|    The Great Gatsby|\n",
      "+-------------------+------------+-------------+--------------------------------+--------------------+\n",
      "\n",
      "root\n",
      " |-- autor: string (nullable = true)\n",
      " |-- data_wydania: string (nullable = true)\n",
      " |-- srednia_ocena: double (nullable = true)\n",
      " |-- timestamp_ostatniej_aktualizacji: string (nullable = true)\n",
      " |-- tytul_ksiazki: string (nullable = true)\n",
      "\n"
     ]
    }
   ],
   "source": [
    "\n",
    "df3 = spark.read.format(\"json\").options(multiLine=True, inferSchema=False).load(\"./work/pyspark_v1/from_slack/books.json\")\n",
    "df3.show()\n",
    "df3.printSchema()"
   ]
  },
  {
   "cell_type": "code",
   "execution_count": 37,
   "metadata": {},
   "outputs": [
    {
     "name": "stdout",
     "output_type": "stream",
     "text": [
      "+-------------------+----------+---------+--------------------+--------------------+\n",
      "|              autor|      data|AVG ocena|   Data aktualizacji|               tytul|\n",
      "+-------------------+----------+---------+--------------------+--------------------+\n",
      "|      George Orwell|1949-06-08|      4.7|2023-10-01T12:00:00Z|                1984|\n",
      "|       J.K. Rowling|1997-06-26|      4.8|2023-09-25T15:45:00Z|Harry Potter and ...|\n",
      "|F. Scott Fitzgerald|1925-04-10|      4.5|2023-10-03T10:30:00Z|    The Great Gatsby|\n",
      "+-------------------+----------+---------+--------------------+--------------------+\n",
      "\n"
     ]
    }
   ],
   "source": [
    "book_schema = StructType(\n",
    "        [\n",
    "            StructField(\"autor\", StringType(), False),\n",
    "            StructField(\"data_wydania\", DateType(), False),\n",
    "            StructField(\"srednia_ocena\", DoubleType(), False),\n",
    "            StructField(\"timestamp_ostatniej_aktualizacji\", TimestampType(), False),\n",
    "            StructField(\"tytul_ksiazki\", StringType(), False)\n",
    "        ]\n",
    ")\n",
    "\n",
    "df3.select(\n",
    "    f.col(\"autor\").alias(\"autor\"),\n",
    "    f.col(\"data_wydania\").alias(\"data\"),\n",
    "    f.col(\"srednia_ocena\").alias(\"AVG ocena\"),\n",
    "    f.col(\"timestamp_ostatniej_aktualizacji\").alias(\"Data aktualizacji\"),\n",
    "    f.col(\"tytul_ksiazki\").alias(\"tytul\")\n",
    ").show(5)"
   ]
  },
  {
   "cell_type": "code",
   "execution_count": null,
   "metadata": {},
   "outputs": [
    {
     "name": "stdout",
     "output_type": "stream",
     "text": [
      "+-------------------+------------+-------------+--------------------------------+--------------------+\n",
      "|              autor|data_wydania|srednia_ocena|timestamp_ostatniej_aktualizacji|       tytul_ksiazki|\n",
      "+-------------------+------------+-------------+--------------------------------+--------------------+\n",
      "|      George Orwell|  1949-06-08|          4.7|             2023-10-01 12:00:00|                1984|\n",
      "|       J.K. Rowling|  1997-06-26|          4.8|             2023-09-25 15:45:00|Harry Potter and ...|\n",
      "|F. Scott Fitzgerald|  1925-04-10|          4.5|             2023-10-03 10:30:00|    The Great Gatsby|\n",
      "+-------------------+------------+-------------+--------------------------------+--------------------+\n",
      "\n",
      "root\n",
      " |-- autor: string (nullable = true)\n",
      " |-- data_wydania: date (nullable = true)\n",
      " |-- srednia_ocena: double (nullable = true)\n",
      " |-- timestamp_ostatniej_aktualizacji: timestamp (nullable = true)\n",
      " |-- tytul_ksiazki: string (nullable = true)\n",
      "\n"
     ]
    }
   ],
   "source": [
    "book_schema = StructType(\n",
    "        [\n",
    "            StructField(\"autor\", StringType(), False),\n",
    "            StructField(\"data_wydania\", DateType(), False),\n",
    "            StructField(\"srednia_ocena\", DoubleType(), False),\n",
    "            StructField(\"timestamp_ostatniej_aktualizacji\", TimestampType(), False),\n",
    "            StructField(\"tytul_ksiazki\", StringType(), False)\n",
    "        ]\n",
    ")\n",
    "\n",
    "#Lepiej nie uzywac bo pozniej jest problem z nullable na false - czyli pozwala na nule \n",
    "df4 = spark.read.format(\"json\").options(multiLine=True).schema(book_schema).load(\"./work/pyspark_v1/from_slack/books.json\")\n",
    "df4.show()\n",
    "df4.printSchema()"
   ]
  },
  {
   "cell_type": "markdown",
   "metadata": {},
   "source": [
    "## **Grupowanie, agregacja i sortowanie**\n"
   ]
  },
  {
   "cell_type": "code",
   "execution_count": 39,
   "metadata": {},
   "outputs": [
    {
     "name": "stdout",
     "output_type": "stream",
     "text": [
      "+---+----------+-----------+---------+--------------------+------------+------+\n",
      "| id|first_name|  last_name|    phone|               email|    acc_type|points|\n",
      "+---+----------+-----------+---------+--------------------+------------+------+\n",
      "|  1|    Julian|     Siatka|828223683|juliansiatka@onet.pl|    Ultimate|233101|\n",
      "|  2|     Tymon|Buszkiewicz|069601377|tymonbuszkiewicz@...|    Ultimate| 61371|\n",
      "|  3|    Karina|        Roś|160231488| karinaroś@yahoo.com|Professional|215880|\n",
      "|  4|     Karol|     Marcol|469824688|karolmarcol@inter...|Professional|495433|\n",
      "|  5| Marcelina|     Gamrat|899504259|marcelinagamrat@o...|Professional|264302|\n",
      "+---+----------+-----------+---------+--------------------+------------+------+\n",
      "only showing top 5 rows\n",
      "\n"
     ]
    }
   ],
   "source": [
    "df5 = spark2.read.format(\"csv\").options(header=True, delimeter=\",\").load(\"./work/pyspark_v1/from_slack/customers.csv\")\n",
    "df5.show(5)\n"
   ]
  },
  {
   "cell_type": "code",
   "execution_count": 54,
   "metadata": {},
   "outputs": [
    {
     "name": "stdout",
     "output_type": "stream",
     "text": [
      "+------------+-----------+\n",
      "|    acc_type|count_po_id|\n",
      "+------------+-----------+\n",
      "|    Ultimate|      12382|\n",
      "|Professional|      12442|\n",
      "|    Complete|      12652|\n",
      "|       Basic|      12524|\n",
      "+------------+-----------+\n",
      "\n"
     ]
    }
   ],
   "source": [
    "df5.groupBy(\"acc_type\").agg(\n",
    "    f.count(\"id\").alias(\"count_po_id\")\n",
    ").orderBy(\n",
    "    f.col(\"acc_type\").desc()\n",
    "    ).show(5)"
   ]
  },
  {
   "cell_type": "markdown",
   "metadata": {},
   "source": [
    "# **Funkcje Okna**"
   ]
  },
  {
   "cell_type": "code",
   "execution_count": 40,
   "metadata": {},
   "outputs": [],
   "source": [
    "from pyspark.sql import Window"
   ]
  },
  {
   "cell_type": "code",
   "execution_count": 42,
   "metadata": {},
   "outputs": [
    {
     "name": "stdout",
     "output_type": "stream",
     "text": [
      "+---+----------+--------+---+----------+--------+\n",
      "| id|      name|cost_net|vat|cost_gross|category|\n",
      "+---+----------+--------+---+----------+--------+\n",
      "|  1|Bindownica| 2003.46|  8|   2163.74|       B|\n",
      "|  2| Telewizor| 1144.24|  5|   1201.45|       H|\n",
      "|  3|     Torba|   75.66|  5|     79.44|       E|\n",
      "|  4| Podkładka| 2653.38|  8|   2865.65|       D|\n",
      "|  5|   Hub USB|  416.74| 23|    512.59|       G|\n",
      "+---+----------+--------+---+----------+--------+\n",
      "only showing top 5 rows\n",
      "\n"
     ]
    }
   ],
   "source": [
    "df6 = spark2.read.format(\"csv\").options(header=True, delimeter=\",\").load(\"./work/pyspark_v1/from_slack/products.csv\")\n",
    "df6.show(5)"
   ]
  },
  {
   "cell_type": "code",
   "execution_count": 49,
   "metadata": {},
   "outputs": [
    {
     "name": "stdout",
     "output_type": "stream",
     "text": [
      "+---+--------+-----------------+\n",
      "| id|category|      avg_per_cat|\n",
      "+---+--------+-----------------+\n",
      "| 16|       A|2795.846015773731|\n",
      "| 59|       A|2795.846015773731|\n",
      "| 89|       A|2795.846015773731|\n",
      "|101|       A|2795.846015773731|\n",
      "|109|       A|2795.846015773731|\n",
      "+---+--------+-----------------+\n",
      "only showing top 5 rows\n",
      "\n"
     ]
    }
   ],
   "source": [
    "window_prod = Window.partitionBy(f.col(\"category\"))\n",
    "\n",
    "df6.select(\n",
    "    f.col(\"id\"),\n",
    "    f.col(\"category\"),\n",
    "    f.avg(f.col(\"cost_gross\")).over(window_prod).alias(\"avg_per_cat\")\n",
    ").show(5)"
   ]
  },
  {
   "cell_type": "markdown",
   "metadata": {},
   "source": [
    "## JOINY\n"
   ]
  },
  {
   "cell_type": "code",
   "execution_count": 55,
   "metadata": {},
   "outputs": [
    {
     "name": "stdout",
     "output_type": "stream",
     "text": [
      "+--------+----------+--------+\n",
      "|order_id|product_id|quantity|\n",
      "+--------+----------+--------+\n",
      "|       1|     14490|       4|\n",
      "|       1|     28697|       5|\n",
      "|       2|     24995|       1|\n",
      "|       2|      6036|       4|\n",
      "|       3|      6258|       2|\n",
      "+--------+----------+--------+\n",
      "only showing top 5 rows\n",
      "\n",
      "+---+------+----------+--------------------+--------------+\n",
      "| id|client|order_date|              status|payment_method|\n",
      "+---+------+----------+--------------------+--------------+\n",
      "|  1| 20601|2022-01-27|Częściowo zrealiz...|      Transfer|\n",
      "|  2| 35536|2022-03-10|        W realizacji|          Cash|\n",
      "|  3| 24865|2017-04-01|         Dostarczone|          Cash|\n",
      "|  4|  9502|2017-03-18|         Dostarczone|      Transfer|\n",
      "|  5|  2948|2016-02-08|             Wysłane|          Cash|\n",
      "+---+------+----------+--------------------+--------------+\n",
      "only showing top 5 rows\n",
      "\n"
     ]
    }
   ],
   "source": [
    "order_details = spark2.read.format(\"csv\").options(header=True, delimeter=\",\").load(\"./work/pyspark_v1/from_slack/order_details.csv\")\n",
    "orders = spark2.read.format(\"csv\").options(header=True, delimeter=\",\").load(\"./work/pyspark_v1/from_slack/orders.csv\")\n",
    "\n",
    "order_details.show(5)\n",
    "orders.show(5)"
   ]
  },
  {
   "cell_type": "code",
   "execution_count": null,
   "metadata": {},
   "outputs": [
    {
     "name": "stdout",
     "output_type": "stream",
     "text": [
      "+---+------+----------+----------------------+--------------+--------+----------+--------+\n",
      "|id |client|order_date|status                |payment_method|order_id|product_id|quantity|\n",
      "+---+------+----------+----------------------+--------------+--------+----------+--------+\n",
      "|1  |20601 |2022-01-27|Częściowo zrealizowane|Transfer      |1       |28697     |5       |\n",
      "|1  |20601 |2022-01-27|Częściowo zrealizowane|Transfer      |1       |14490     |4       |\n",
      "|2  |35536 |2022-03-10|W realizacji          |Cash          |2       |6036      |4       |\n",
      "|2  |35536 |2022-03-10|W realizacji          |Cash          |2       |24995     |1       |\n",
      "|3  |24865 |2017-04-01|Dostarczone           |Cash          |3       |6258      |2       |\n",
      "|4  |9502  |2017-03-18|Dostarczone           |Transfer      |4       |23255     |3       |\n",
      "|4  |9502  |2017-03-18|Dostarczone           |Transfer      |4       |14012     |2       |\n",
      "|5  |2948  |2016-02-08|Wysłane               |Cash          |5       |2171      |4       |\n",
      "|5  |2948  |2016-02-08|Wysłane               |Cash          |5       |16558     |1       |\n",
      "|6  |32727 |2018-08-13|Potwierdzone          |Cash          |6       |7515      |2       |\n",
      "|6  |32727 |2018-08-13|Potwierdzone          |Cash          |6       |5092      |4       |\n",
      "|7  |43006 |2014-10-12|Zwrócone              |Loyal Card    |7       |8706      |3       |\n",
      "|8  |2941  |2019-09-20|Potwierdzone          |Cash          |8       |17724     |5       |\n",
      "|9  |38611 |2022-10-17|Anulowane             |Transfer      |9       |20695     |3       |\n",
      "|10 |21556 |2019-08-22|Oczekujące            |Loyal Card    |10      |19999     |2       |\n",
      "|10 |21556 |2019-08-22|Oczekujące            |Loyal Card    |10      |24368     |4       |\n",
      "|11 |26579 |2014-02-05|Oczekujące            |Loyal Card    |11      |11167     |2       |\n",
      "|11 |26579 |2014-02-05|Oczekujące            |Loyal Card    |11      |14065     |5       |\n",
      "|11 |26579 |2014-02-05|Oczekujące            |Loyal Card    |11      |13492     |1       |\n",
      "|12 |43399 |2020-02-11|Anulowane             |Cash          |12      |15825     |3       |\n",
      "+---+------+----------+----------------------+--------------+--------+----------+--------+\n",
      "only showing top 20 rows\n",
      "\n"
     ]
    }
   ],
   "source": [
    "orders.join(\n",
    "    order_details,\n",
    "    orders[\"id\"] == order_details[\"order_id\"],\n",
    "    \"inner\"\n",
    ").show(truncate=False)\n",
    "\n"
   ]
  },
  {
   "cell_type": "markdown",
   "metadata": {},
   "source": [
    "JAK ROBIC LEPIEJ"
   ]
  },
  {
   "cell_type": "code",
   "execution_count": 63,
   "metadata": {},
   "outputs": [
    {
     "name": "stdout",
     "output_type": "stream",
     "text": [
      "+--------+------+----------+----------+--------+\n",
      "|order_id|client|order_date|product_id|quantity|\n",
      "+--------+------+----------+----------+--------+\n",
      "|1       |20601 |2022-01-27|14490     |4       |\n",
      "|1       |20601 |2022-01-27|28697     |5       |\n",
      "|2       |35536 |2022-03-10|24995     |1       |\n",
      "|2       |35536 |2022-03-10|6036      |4       |\n",
      "|3       |24865 |2017-04-01|6258      |2       |\n",
      "|4       |9502  |2017-03-18|14012     |2       |\n",
      "|4       |9502  |2017-03-18|23255     |3       |\n",
      "|5       |2948  |2016-02-08|16558     |1       |\n",
      "|5       |2948  |2016-02-08|2171      |4       |\n",
      "|6       |32727 |2018-08-13|5092      |4       |\n",
      "|6       |32727 |2018-08-13|7515      |2       |\n",
      "|7       |43006 |2014-10-12|8706      |3       |\n",
      "|8       |2941  |2019-09-20|17724     |5       |\n",
      "|9       |38611 |2022-10-17|20695     |3       |\n",
      "|10      |21556 |2019-08-22|24368     |4       |\n",
      "|10      |21556 |2019-08-22|19999     |2       |\n",
      "|11      |26579 |2014-02-05|13492     |1       |\n",
      "|11      |26579 |2014-02-05|14065     |5       |\n",
      "|11      |26579 |2014-02-05|11167     |2       |\n",
      "|12      |43399 |2020-02-11|10821     |3       |\n",
      "+--------+------+----------+----------+--------+\n",
      "only showing top 20 rows\n",
      "\n"
     ]
    }
   ],
   "source": [
    "## tylko dla jednaj kolumny\n",
    "pre_join_orders = orders.select(\n",
    "    f.col(\"id\").alias(\"order_id\"),\n",
    "    f.col(\"client\").alias(\"client\"),\n",
    "    f.col(\"order_date\").alias(\"order_date\")\n",
    ")\n",
    "\n",
    "order_det = pre_join_orders.join(\n",
    "    order_details,\n",
    "    [\"order_id\"],\n",
    "    \"inner\"\n",
    ").show(truncate=False)\n"
   ]
  },
  {
   "cell_type": "code",
   "execution_count": null,
   "metadata": {},
   "outputs": [
    {
     "name": "stdout",
     "output_type": "stream",
     "text": [
      "+------+----------+----------------------+--------------+--------+----------+--------+\n",
      "|client|order_date|status                |payment_method|order_id|product_id|quantity|\n",
      "+------+----------+----------------------+--------------+--------+----------+--------+\n",
      "|20601 |2022-01-27|Częściowo zrealizowane|Transfer      |1       |28697     |5       |\n",
      "|20601 |2022-01-27|Częściowo zrealizowane|Transfer      |1       |14490     |4       |\n",
      "|35536 |2022-03-10|W realizacji          |Cash          |2       |6036      |4       |\n",
      "|35536 |2022-03-10|W realizacji          |Cash          |2       |24995     |1       |\n",
      "|24865 |2017-04-01|Dostarczone           |Cash          |3       |6258      |2       |\n",
      "|9502  |2017-03-18|Dostarczone           |Transfer      |4       |23255     |3       |\n",
      "|9502  |2017-03-18|Dostarczone           |Transfer      |4       |14012     |2       |\n",
      "|2948  |2016-02-08|Wysłane               |Cash          |5       |2171      |4       |\n",
      "|2948  |2016-02-08|Wysłane               |Cash          |5       |16558     |1       |\n",
      "|32727 |2018-08-13|Potwierdzone          |Cash          |6       |7515      |2       |\n",
      "|32727 |2018-08-13|Potwierdzone          |Cash          |6       |5092      |4       |\n",
      "|43006 |2014-10-12|Zwrócone              |Loyal Card    |7       |8706      |3       |\n",
      "|2941  |2019-09-20|Potwierdzone          |Cash          |8       |17724     |5       |\n",
      "|38611 |2022-10-17|Anulowane             |Transfer      |9       |20695     |3       |\n",
      "|21556 |2019-08-22|Oczekujące            |Loyal Card    |10      |19999     |2       |\n",
      "|21556 |2019-08-22|Oczekujące            |Loyal Card    |10      |24368     |4       |\n",
      "|26579 |2014-02-05|Oczekujące            |Loyal Card    |11      |11167     |2       |\n",
      "|26579 |2014-02-05|Oczekujące            |Loyal Card    |11      |14065     |5       |\n",
      "|26579 |2014-02-05|Oczekujące            |Loyal Card    |11      |13492     |1       |\n",
      "|43399 |2020-02-11|Anulowane             |Cash          |12      |15825     |3       |\n",
      "+------+----------+----------------------+--------------+--------+----------+--------+\n",
      "only showing top 20 rows\n",
      "\n"
     ]
    }
   ],
   "source": [
    "## dla wiekszej ilosci conditions w zapytaniu, jakby mialo byc jeszcze data> od cos tam to lepiej tak\n",
    "orders.join(\n",
    "    order_details,\n",
    "    orders[\"id\"] == order_details[\"order_id\"],\n",
    "    \"inner\"\n",
    ").drop(f.col(\"id\")).show(truncate=False)\n"
   ]
  },
  {
   "cell_type": "code",
   "execution_count": 61,
   "metadata": {},
   "outputs": [
    {
     "name": "stdout",
     "output_type": "stream",
     "text": [
      "+---+------------------+--------+---+----------+--------+\n",
      "| id|              name|cost_net|vat|cost_gross|category|\n",
      "+---+------------------+--------+---+----------+--------+\n",
      "|  1|        Bindownica| 2003.46|  8|   2163.74|       B|\n",
      "|  2|         Telewizor| 1144.24|  5|   1201.45|       H|\n",
      "|  3|             Torba|   75.66|  5|     79.44|       E|\n",
      "|  4|         Podkładka| 2653.38|  8|   2865.65|       D|\n",
      "|  5|           Hub USB|  416.74| 23|    512.59|       G|\n",
      "|  6|            Pralka| 4507.47| 12|   5048.37|       E|\n",
      "|  7|             Tuner| 3951.41|  8|   4267.52|       D|\n",
      "|  8|          Soundbar| 3513.14|  5|    3688.8|       D|\n",
      "|  9|      Płyta główna| 4339.85| 12|   4860.63|       D|\n",
      "| 10|Wzmacniacz sygnału| 2203.85| 12|   2468.31|       B|\n",
      "| 11|              Mysz|   487.9| 23|    600.12|       B|\n",
      "| 12|           Adapter|  4200.7|  5|   4410.73|       D|\n",
      "| 13|             Modem| 4841.92|  5|   5084.02|       F|\n",
      "| 14|          Zmywarka| 2925.31|  5|   3071.58|       H|\n",
      "| 15|         Odkurzacz|  826.51|  5|    867.84|       F|\n",
      "| 16|             Kabel|  220.82| 23|    271.61|       A|\n",
      "| 17|             Modem| 3512.53|  8|   3793.53|       F|\n",
      "| 18|         Odkurzacz| 1746.61|  8|   1886.34|       F|\n",
      "| 19|     Karta pamięci|  811.73| 12|    909.14|       C|\n",
      "| 20|    Robot kuchenny|  2828.6| 23|   3479.18|       D|\n",
      "+---+------------------+--------+---+----------+--------+\n",
      "only showing top 20 rows\n",
      "\n"
     ]
    }
   ],
   "source": [
    "products = spark2.read.format(\"csv\").options(header=True, delimeter=\",\").load(\"./work/pyspark_v1/from_slack/products.csv\")\n",
    "products.show()"
   ]
  },
  {
   "cell_type": "code",
   "execution_count": 91,
   "metadata": {},
   "outputs": [
    {
     "name": "stdout",
     "output_type": "stream",
     "text": [
      "+--------+----------+------------------+----------+\n",
      "|order_id|order_date|count_of_positions|total_cost|\n",
      "+--------+----------+------------------+----------+\n",
      "|       1|2022-01-27|                 2|  30297.21|\n",
      "|      10|2019-08-22|                 2|   6255.12|\n",
      "|     100|2014-09-25|                 2|   1863.62|\n",
      "|    1000|2015-07-13|                 1|  12019.59|\n",
      "|   10000|2019-11-18|                 1|  13585.84|\n",
      "+--------+----------+------------------+----------+\n",
      "only showing top 5 rows\n",
      "\n",
      "+--------+----------+-----+------------------+\n",
      "|order_id|order_date|count|              suma|\n",
      "+--------+----------+-----+------------------+\n",
      "|       1|2022-01-27|    2|30297.210000000003|\n",
      "|       1|2022-01-27|    2|30297.210000000003|\n",
      "|      10|2019-08-22|    2|           6255.12|\n",
      "|      10|2019-08-22|    2|           6255.12|\n",
      "|     100|2014-09-25|    2|1863.6200000000001|\n",
      "+--------+----------+-----+------------------+\n",
      "only showing top 5 rows\n",
      "\n"
     ]
    }
   ],
   "source": [
    "pre_products = products.select(\n",
    "    f.col(\"id\").alias(\"product_id\"),\n",
    "    f.col(\"cost_net\"),\n",
    "    f.col(\"cost_gross\")\n",
    ")\n",
    "\n",
    "pre_join_orders = orders.select(\n",
    "    f.col(\"id\").alias(\"order_id\"),\n",
    "    f.col(\"client\").alias(\"client\"),\n",
    "    f.col(\"order_date\").alias(\"order_date\")\n",
    ")\n",
    "\n",
    "window_opt = Window.partitionBy(f.col(\"order_id\"), f.col(\"order_date\"))\n",
    "\n",
    "full = pre_join_orders.join(\n",
    "    order_details,\n",
    "    [\"order_id\"],\n",
    "    \"inner\"\n",
    ").join(\n",
    "    pre_products,\n",
    "    [\"product_id\"],\n",
    "    \"inner\"\n",
    "    )\n",
    "#full.show(5)\n",
    "\n",
    "full.groupBy(\n",
    "    f.col(\"order_id\"),\n",
    "    f.col(\"order_date\")\n",
    ").agg(\n",
    "    f.count(f.col(\"order_id\")).alias(\"count_of_positions\"),\n",
    "    f.round(f.sum( f.col(\"cost_gross\") * f.col(\"quantity\") ), 2).alias(\"total_cost\")\n",
    ").orderBy(f.col(\"order_id\")).show(5)\n",
    "\n",
    "full.select(\n",
    "        f.col(\"order_id\"),\n",
    "        f.col(\"order_date\"),\n",
    "        f.count(\"product_id\").over(window_opt).alias(\"count\"),\n",
    "        f.sum(f.col(\"cost_gross\") * f.col(\"quantity\")).over(window_opt).alias(\"suma\")\n",
    "        ).orderBy(\"order_id\").show(5)"
   ]
  },
  {
   "cell_type": "code",
   "execution_count": null,
   "metadata": {},
   "outputs": [],
   "source": [
    "spark.stop()\n",
    "spark2.stop()"
   ]
  }
 ],
 "metadata": {
  "kernelspec": {
   "display_name": "base",
   "language": "python",
   "name": "python3"
  },
  "language_info": {
   "codemirror_mode": {
    "name": "ipython",
    "version": 3
   },
   "file_extension": ".py",
   "mimetype": "text/x-python",
   "name": "python",
   "nbconvert_exporter": "python",
   "pygments_lexer": "ipython3",
   "version": "3.11.10"
  }
 },
 "nbformat": 4,
 "nbformat_minor": 2
}
